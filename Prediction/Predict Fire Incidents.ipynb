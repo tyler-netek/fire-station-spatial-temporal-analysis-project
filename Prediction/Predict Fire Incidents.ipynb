{
 "cells": [
  {
   "cell_type": "code",
   "execution_count": 1,
   "id": "ad68dc6c-4b82-4ea0-a4dc-57290a734c9d",
   "metadata": {},
   "outputs": [],
   "source": [
    "import pandas as pd\n",
    "import numpy as np\n",
    "from itertools import product"
   ]
  },
  {
   "cell_type": "code",
   "execution_count": 2,
   "id": "4d90cfb4-e7d2-46c4-b5d1-610289e8d205",
   "metadata": {},
   "outputs": [],
   "source": [
    "# Load models\n",
    "high_risk_model = pd.read_pickle('high_risk_logistic.pkl')\n",
    "med_risk_model = pd.read_pickle('med_risk_logistic.pkl')\n",
    "low_risk_model = pd.read_pickle('low_risk_logistic.pkl')\n",
    "any_risk_model = pd.read_pickle('any_risk_logistic.pkl')"
   ]
  },
  {
   "cell_type": "code",
   "execution_count": 3,
   "id": "f50cfccc-d4ec-4819-9b7c-1e47f7a13a9d",
   "metadata": {},
   "outputs": [],
   "source": [
    "wavelet = pd.read_csv('wavelet_features.csv')"
   ]
  },
  {
   "cell_type": "code",
   "execution_count": 4,
   "id": "f86e2a21-0d6f-49ff-a225-3afc454c308c",
   "metadata": {},
   "outputs": [],
   "source": [
    "# Create new dataframe that includes all hours, days, months, and zipcodes\n",
    "zipcodes = wavelet.MODZCTA.unique()\n",
    "months = [1, 2, 3, 4, 5, 6, 7, 8, 9, 10, 11, 12]\n",
    "dates = list(range(1, 32))\n",
    "hours = list(range(24))\n",
    "df_all = pd.DataFrame(list(product(zipcodes, months, dates, hours)), columns=['MODZCTA', 'Month', 'Date', 'Hour'])\n",
    "\n",
    "# Remove non-exist dates (2/29, 2/30, 2/31, 4/31, 6/31, 9/31, 11/31)\n",
    "df_all = df_all[~(((df_all.Month == 2) & (df_all.Date >= 29)) |  # 2/29, 2/30, 2/31\n",
    "        (((df_all.Month == 4) | (df_all.Month == 6) | (df_all.Month == 9) | (df_all.Month == 11)) & (df_all.Date == 31)))]# 4/31, 6/31, 9/31, 11/31\n",
    "\n",
    "# Group hours (every 4 hours)\n",
    "hour_increment = 4\n",
    "df_all['Hour_group'] = df_all['Hour'].apply(lambda x: (x//hour_increment) * hour_increment)\n",
    "df_all = df_all.drop('Hour', axis=1)\n",
    "\n",
    "# Create dummy varaibles\n",
    "df_all = pd.get_dummies(df_all, columns=['Month', 'Date', 'Hour_group'])\n",
    "\n",
    "# Merge with wavelet data\n",
    "df_all = df_all.merge(wavelet, on='MODZCTA')\n",
    "\n",
    "# Keep MODZCTA column for later use\n",
    "MODZCTA = df_all['MODZCTA']\n",
    "\n",
    "# Drop 'MODZCTA' feature since it's not in the model\n",
    "df_all = df_all.drop('MODZCTA', axis=1)\n",
    "\n",
    "# Realign column order to match what's in the model\n",
    "df_all = df_all[high_risk_model.feature_names_in_]"
   ]
  },
  {
   "cell_type": "code",
   "execution_count": 5,
   "id": "5df03b66-0832-4151-805d-3785a72f3dd9",
   "metadata": {},
   "outputs": [],
   "source": [
    "# Fit model\n",
    "num_high_risk = high_risk_model.predict_proba(df_all)[:,1]\n",
    "num_med_risk = med_risk_model.predict_proba(df_all)[:,1]\n",
    "num_low_risk = low_risk_model.predict_proba(df_all)[:,1]\n",
    "num_any_risk = any_risk_model.predict_proba(df_all)[:,1]\n",
    "\n",
    "# Include prediction in dataframe\n",
    "df_result = df_all.copy()\n",
    "df_result['num_high_risk'] = num_high_risk\n",
    "df_result['num_med_risk'] = num_med_risk\n",
    "df_result['num_low_risk'] = num_low_risk\n",
    "df_result['num_any_risk'] = num_any_risk\n",
    "\n",
    "# Drop unnecessary columns\n",
    "df_result.drop(['high_mean_energy', 'high_max_energy', 'high_dominant_scale',\n",
    "       'med_mean_energy', 'med_max_energy', 'med_dominant_scale',\n",
    "       'low_mean_energy', 'low_max_energy', 'low_dominant_scale'], axis=1, inplace=True)\n",
    "\n",
    "# Add back in MODZCTA column\n",
    "df_result['MODZCTA'] = MODZCTA\n",
    "\n",
    "# Convert dummy variables to a single column\n",
    "dummies = ['Month_1', 'Month_2', 'Month_3', 'Month_4', 'Month_5', 'Month_6',\n",
    "       'Month_7', 'Month_8', 'Month_9', 'Month_10', 'Month_11', 'Month_12',\n",
    "       'Date_1', 'Date_2', 'Date_3', 'Date_4', 'Date_5', 'Date_6', 'Date_7',\n",
    "       'Date_8', 'Date_9', 'Date_10', 'Date_11', 'Date_12', 'Date_13',\n",
    "       'Date_14', 'Date_15', 'Date_16', 'Date_17', 'Date_18', 'Date_19',\n",
    "       'Date_20', 'Date_21', 'Date_22', 'Date_23', 'Date_24', 'Date_25',\n",
    "       'Date_26', 'Date_27', 'Date_28', 'Date_29', 'Date_30', 'Date_31',\n",
    "       'Hour_group_0', 'Hour_group_4', 'Hour_group_8', 'Hour_group_12',\n",
    "       'Hour_group_16', 'Hour_group_20']\n",
    "date_time = pd.from_dummies(df_result[dummies], sep='_')\n",
    "df_result = pd.concat([df_result, date_time], axis=1).drop(dummies, axis=1)\n",
    "df_result['Month'] = df_result['Month'].apply(lambda x: int(x))\n",
    "df_result['Date'] = df_result['Date'].apply(lambda x: int(x))\n",
    "\n",
    "\n",
    "# Convert hour columns to number\n",
    "df_result['Hour'] = df_result['Hour'].apply(lambda x: x.replace('group_', ''))\n",
    "df_result['Hour'] = df_result['Hour'].apply(lambda x: int(x))\n",
    "\n",
    "# Reorder columns\n",
    "col_order = ['MODZCTA', 'Month', 'Date', 'Hour', 'num_high_risk', 'num_med_risk', 'num_low_risk', 'num_any_risk']\n",
    "df_result = df_result[col_order]\n",
    "\n",
    "# Group by date\n",
    "df_result = df_result.groupby(['MODZCTA', 'Month', 'Date'], as_index=False).sum().drop(['Hour'], axis=1)\n",
    "\n",
    "# Output to csv\n",
    "df_result.to_csv('fire_incident_prediction_output.csv', index=False)"
   ]
  },
  {
   "cell_type": "code",
   "execution_count": null,
   "id": "56eb4999-17d3-4038-9ed3-d24da5c006c4",
   "metadata": {},
   "outputs": [],
   "source": []
  }
 ],
 "metadata": {
  "kernelspec": {
   "display_name": "Python 3 (ipykernel)",
   "language": "python",
   "name": "python3"
  },
  "language_info": {
   "codemirror_mode": {
    "name": "ipython",
    "version": 3
   },
   "file_extension": ".py",
   "mimetype": "text/x-python",
   "name": "python",
   "nbconvert_exporter": "python",
   "pygments_lexer": "ipython3",
   "version": "3.12.7"
  }
 },
 "nbformat": 4,
 "nbformat_minor": 5
}
