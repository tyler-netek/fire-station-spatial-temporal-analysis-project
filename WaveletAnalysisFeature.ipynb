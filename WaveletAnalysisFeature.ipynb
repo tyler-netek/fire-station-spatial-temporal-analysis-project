{
  "cells": [
    {
      "cell_type": "code",
      "execution_count": null,
      "metadata": {
        "colab": {
          "base_uri": "https://localhost:8080/",
          "height": 1000
        },
        "id": "nguFKT2v18yB",
        "outputId": "31606585-907e-4eea-eced-320af15aa370"
      },
      "outputs": [
        {
          "ename": "",
          "evalue": "",
          "output_type": "error",
          "traceback": [
            "\u001b[1;31mRunning cells with 'Python 3.13.2' requires the ipykernel package.\n",
            "\u001b[1;31mRun the following command to install 'ipykernel' into the Python environment. \n",
            "\u001b[1;31mCommand: '/opt/homebrew/bin/python3 -m pip install ipykernel -U --user --force-reinstall'"
          ]
        }
      ],
      "source": [
        "import pandas as pd\n",
        "import numpy as np\n",
        "import pywt\n",
        "\n",
        "def extract_wavelet_features(data, scales=np.arange(1,128), wavelet='morl'):\n",
        "    coeffs, _ = pywt.cwt(data, scales, wavelet)\n",
        "    energy = np.abs(coeffs)**2\n",
        "    me = np.mean(energy)\n",
        "    max_e = np.max(energy)\n",
        "    dom_scale = scales[np.argmax(np.mean(energy, axis=1))]\n",
        "    return me, max_e, dom_scale\n",
        "\n",
        "def build_wavelet_feature_df_temporal(file_name, min_points=10):\n",
        "    df = pd.read_csv(file_name)\n",
        "    df.columns = df.columns.str.strip()\n",
        "    df['Datetime'] = pd.to_datetime(df[['Year','Month','Date','Hour']].rename(columns={'Year':'year','Month':'month','Date':'day','Hour':'hour'}))\n",
        "    df.sort_values('Datetime', inplace=True)\n",
        "    features = []\n",
        "    for mod, group in df.groupby('MODZCTA'):\n",
        "        group = group.sort_values('Datetime')\n",
        "        if len(group) < min_points:\n",
        "            continue\n",
        "        ts = group['Count'].values\n",
        "        me, max_e, dom_scale = extract_wavelet_features(ts)\n",
        "        features.append({'MODZCTA': str(int(mod)), 'mean_energy': me, 'max_energy': max_e, 'dominant_scale': dom_scale})\n",
        "    return pd.DataFrame(features)\n",
        "\n",
        "wf_high = build_wavelet_feature_df_temporal('HighRiskData_Temporal.csv', min_points=10)\n",
        "# wf_med = build_wavelet_feature_df_temporal('MediumRiskData_Temporal.csv', min_points=10)\n",
        "# wf_low = build_wavelet_feature_df_temporal('LowRiskData_Temporal.csv', min_points=10)\n",
        "\n",
        "wf_high = wf_high.rename(columns={'mean_energy':'high_mean_energy','max_energy':'high_max_energy','dominant_scale':'high_dominant_scale'})\n",
        "# wf_med = wf_med.rename(columns={'mean_energy':'med_mean_energy','max_energy':'med_max_energy','dominant_scale':'med_dominant_scale'})\n",
        "# wf_low = wf_low.rename(columns={'mean_energy':'low_mean_energy','max_energy':'low_max_energy','dominant_scale':'low_dominant_scale'})\n",
        "\n",
        "wf_combined = wf_high  # .merge(wf_med, on='MODZCTA', how='outer').merge(wf_low, on='MODZCTA', how='outer')\n",
        "wf_combined = wf_combined.rename(columns={'MODZCTA':'ZIP'})\n",
        "wf_combined.to_csv('wavelet_features_temporal.csv', index=False)\n"
      ]
    }
  ],
  "metadata": {
    "colab": {
      "provenance": []
    },
    "kernelspec": {
      "display_name": "Python 3",
      "name": "python3"
    },
    "language_info": {
      "name": "python",
      "version": "3.13.2"
    }
  },
  "nbformat": 4,
  "nbformat_minor": 0
}
