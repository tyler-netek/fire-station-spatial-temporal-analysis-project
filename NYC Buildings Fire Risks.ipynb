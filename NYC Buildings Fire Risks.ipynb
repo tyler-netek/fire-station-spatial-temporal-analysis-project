{
 "cells": [
  {
   "cell_type": "code",
   "execution_count": 1,
   "id": "01105f43-8f4b-436b-9598-12babe87b6ed",
   "metadata": {},
   "outputs": [],
   "source": [
    "import pandas as pd\n",
    "import numpy as np\n",
    "import matplotlib.pyplot as plt"
   ]
  },
  {
   "cell_type": "markdown",
   "id": "64bd6aa4-1bd2-413c-9f83-ad9933f33a49",
   "metadata": {},
   "source": [
    "# Read Data"
   ]
  },
  {
   "cell_type": "code",
   "execution_count": 2,
   "id": "0415bcc1-21a0-4736-8926-e6f5282f79a7",
   "metadata": {},
   "outputs": [],
   "source": [
    "# https://nycmaps-nyc.hub.arcgis.com/datasets/nyc::building/about\n",
    "buildings_raw = pd.read_csv('BUILDING_view_7607496916235021567.csv')\n",
    "\n",
    "# https://data.cityofnewyork.us/City-Government/Property-Address-Directory/bc8t-ecyu/about_data\n",
    "zipcodes_raw = pd.read_csv('bobaadr.txt', low_memory=False)\n",
    "\n",
    "# https://www.nyc.gov/site/planning/data-maps/open-data/dwn-pluto-mappluto.page\n",
    "pluto_raw = pd.read_csv('pluto_25v1.csv', low_memory=False)\n",
    "\n",
    "# https://data.cityofnewyork.us/Public-Safety/Risk-Based-Inspections-RBIS-/itd7-gx3g/about_data\n",
    "inspection_raw = pd.read_csv('Risk_Based_Inspections__RBIS__20250308.csv', low_memory=False)\n",
    "\n",
    "# https://simplemaps.com/data/us-zips\n",
    "zip_area_raw = pd.read_csv('uszips.csv')"
   ]
  },
  {
   "cell_type": "markdown",
   "id": "4297c10b-f620-481a-b59c-17b0031b66b6",
   "metadata": {},
   "source": [
    "# Clean Data\n",
    "### building data"
   ]
  },
  {
   "cell_type": "code",
   "execution_count": 3,
   "id": "7cd070e0-2c37-4c38-8e8d-de8d1f0074a6",
   "metadata": {},
   "outputs": [
    {
     "data": {
      "text/plain": [
       "Index(['OBJECTID', 'Base BBL', 'BIN', 'Construction Year', 'DOITT ID',\n",
       "       'Feature Code', 'Geometry Source', 'Ground Elevation', 'Height Roof',\n",
       "       'LAST_EDITED_DATE', 'LAST_STATUS_TYPE', 'Map Pluto BBL', 'Name', 'Area',\n",
       "       'Length'],\n",
       "      dtype='object')"
      ]
     },
     "execution_count": 3,
     "metadata": {},
     "output_type": "execute_result"
    }
   ],
   "source": [
    "buildings_raw.columns"
   ]
  },
  {
   "cell_type": "code",
   "execution_count": 4,
   "id": "b56c254c-847b-4293-8ac2-03c8083295db",
   "metadata": {},
   "outputs": [],
   "source": [
    "buildings = buildings_raw[['OBJECTID', 'BIN', 'Construction Year', 'DOITT ID', 'Feature Code', 'Height Roof',\n",
    "       'LAST_STATUS_TYPE','Map Pluto BBL', 'Area', 'Length']]"
   ]
  },
  {
   "cell_type": "code",
   "execution_count": 5,
   "id": "e37894e9-a353-489e-9b48-8385c36461c5",
   "metadata": {},
   "outputs": [],
   "source": [
    "# Keep only LAST_STATUS_TYPE == \"Constructed\"\n",
    "buildings = buildings[buildings['LAST_STATUS_TYPE'] == \"Constructed\"]\n",
    "buildings.drop('LAST_STATUS_TYPE', axis=1, inplace=True)"
   ]
  },
  {
   "cell_type": "markdown",
   "id": "755f5290-c5d8-4124-ae11-8b9ea7962b76",
   "metadata": {},
   "source": [
    "### zipcode data"
   ]
  },
  {
   "cell_type": "code",
   "execution_count": 6,
   "id": "2699bb7b-6af4-4506-a02e-93bc7abe37d5",
   "metadata": {},
   "outputs": [
    {
     "data": {
      "text/html": [
       "<div>\n",
       "<style scoped>\n",
       "    .dataframe tbody tr th:only-of-type {\n",
       "        vertical-align: middle;\n",
       "    }\n",
       "\n",
       "    .dataframe tbody tr th {\n",
       "        vertical-align: top;\n",
       "    }\n",
       "\n",
       "    .dataframe thead th {\n",
       "        text-align: right;\n",
       "    }\n",
       "</style>\n",
       "<table border=\"1\" class=\"dataframe\">\n",
       "  <thead>\n",
       "    <tr style=\"text-align: right;\">\n",
       "      <th></th>\n",
       "      <th>bin</th>\n",
       "      <th>zipcode</th>\n",
       "    </tr>\n",
       "  </thead>\n",
       "  <tbody>\n",
       "    <tr>\n",
       "      <th>0</th>\n",
       "      <td>1000000</td>\n",
       "      <td>10004</td>\n",
       "    </tr>\n",
       "    <tr>\n",
       "      <th>1</th>\n",
       "      <td>1000000</td>\n",
       "      <td>10004</td>\n",
       "    </tr>\n",
       "    <tr>\n",
       "      <th>2</th>\n",
       "      <td>1000000</td>\n",
       "      <td>10004</td>\n",
       "    </tr>\n",
       "    <tr>\n",
       "      <th>3</th>\n",
       "      <td>1000000</td>\n",
       "      <td>10004</td>\n",
       "    </tr>\n",
       "    <tr>\n",
       "      <th>4</th>\n",
       "      <td>1000000</td>\n",
       "      <td>10004</td>\n",
       "    </tr>\n",
       "  </tbody>\n",
       "</table>\n",
       "</div>"
      ],
      "text/plain": [
       "       bin zipcode\n",
       "0  1000000   10004\n",
       "1  1000000   10004\n",
       "2  1000000   10004\n",
       "3  1000000   10004\n",
       "4  1000000   10004"
      ]
     },
     "execution_count": 6,
     "metadata": {},
     "output_type": "execute_result"
    }
   ],
   "source": [
    "zipcodes = zipcodes_raw[['bin','zipcode']]\n",
    "zipcodes.head()"
   ]
  },
  {
   "cell_type": "markdown",
   "id": "7d86be19-cece-497c-99ad-2d0a3c2acf28",
   "metadata": {},
   "source": [
    "### pluto data"
   ]
  },
  {
   "cell_type": "code",
   "execution_count": 7,
   "id": "feb14077-c8c3-4d2f-ad2e-5ee53641c104",
   "metadata": {},
   "outputs": [
    {
     "data": {
      "text/html": [
       "<div>\n",
       "<style scoped>\n",
       "    .dataframe tbody tr th:only-of-type {\n",
       "        vertical-align: middle;\n",
       "    }\n",
       "\n",
       "    .dataframe tbody tr th {\n",
       "        vertical-align: top;\n",
       "    }\n",
       "\n",
       "    .dataframe thead th {\n",
       "        text-align: right;\n",
       "    }\n",
       "</style>\n",
       "<table border=\"1\" class=\"dataframe\">\n",
       "  <thead>\n",
       "    <tr style=\"text-align: right;\">\n",
       "      <th></th>\n",
       "      <th>borough</th>\n",
       "      <th>block</th>\n",
       "      <th>lot</th>\n",
       "      <th>bbl</th>\n",
       "      <th>zipcode</th>\n",
       "      <th>latitude</th>\n",
       "      <th>longitude</th>\n",
       "    </tr>\n",
       "  </thead>\n",
       "  <tbody>\n",
       "    <tr>\n",
       "      <th>0</th>\n",
       "      <td>BK</td>\n",
       "      <td>5852</td>\n",
       "      <td>1</td>\n",
       "      <td>3.058520e+09</td>\n",
       "      <td>11220.0</td>\n",
       "      <td>40.638298</td>\n",
       "      <td>-74.030598</td>\n",
       "    </tr>\n",
       "    <tr>\n",
       "      <th>1</th>\n",
       "      <td>BK</td>\n",
       "      <td>5852</td>\n",
       "      <td>13</td>\n",
       "      <td>3.058520e+09</td>\n",
       "      <td>11220.0</td>\n",
       "      <td>40.638575</td>\n",
       "      <td>-74.030126</td>\n",
       "    </tr>\n",
       "    <tr>\n",
       "      <th>2</th>\n",
       "      <td>BK</td>\n",
       "      <td>5852</td>\n",
       "      <td>6</td>\n",
       "      <td>3.058520e+09</td>\n",
       "      <td>11220.0</td>\n",
       "      <td>40.638567</td>\n",
       "      <td>-74.030490</td>\n",
       "    </tr>\n",
       "    <tr>\n",
       "      <th>3</th>\n",
       "      <td>BK</td>\n",
       "      <td>5852</td>\n",
       "      <td>58</td>\n",
       "      <td>3.058520e+09</td>\n",
       "      <td>11220.0</td>\n",
       "      <td>40.638142</td>\n",
       "      <td>-74.029704</td>\n",
       "    </tr>\n",
       "    <tr>\n",
       "      <th>4</th>\n",
       "      <td>BK</td>\n",
       "      <td>5848</td>\n",
       "      <td>77</td>\n",
       "      <td>3.058480e+09</td>\n",
       "      <td>11220.0</td>\n",
       "      <td>40.639039</td>\n",
       "      <td>-74.030115</td>\n",
       "    </tr>\n",
       "  </tbody>\n",
       "</table>\n",
       "</div>"
      ],
      "text/plain": [
       "  borough  block  lot           bbl  zipcode   latitude  longitude\n",
       "0      BK   5852    1  3.058520e+09  11220.0  40.638298 -74.030598\n",
       "1      BK   5852   13  3.058520e+09  11220.0  40.638575 -74.030126\n",
       "2      BK   5852    6  3.058520e+09  11220.0  40.638567 -74.030490\n",
       "3      BK   5852   58  3.058520e+09  11220.0  40.638142 -74.029704\n",
       "4      BK   5848   77  3.058480e+09  11220.0  40.639039 -74.030115"
      ]
     },
     "execution_count": 7,
     "metadata": {},
     "output_type": "execute_result"
    }
   ],
   "source": [
    "pluto = pluto_raw[['borough', 'block', 'lot', 'bbl', 'zipcode', 'latitude', 'longitude']]\n",
    "pluto.head()"
   ]
  },
  {
   "cell_type": "code",
   "execution_count": 8,
   "id": "48f61357-0f61-4039-8ac1-60a59743aac7",
   "metadata": {},
   "outputs": [
    {
     "name": "stderr",
     "output_type": "stream",
     "text": [
      "C:\\Users\\kevin\\AppData\\Local\\Temp\\ipykernel_22176\\1061226196.py:2: SettingWithCopyWarning: \n",
      "A value is trying to be set on a copy of a slice from a DataFrame.\n",
      "Try using .loc[row_indexer,col_indexer] = value instead\n",
      "\n",
      "See the caveats in the documentation: https://pandas.pydata.org/pandas-docs/stable/user_guide/indexing.html#returning-a-view-versus-a-copy\n",
      "  pluto['bbl'] = pluto['bbl'].apply(lambda x: int(x))\n"
     ]
    }
   ],
   "source": [
    "# Convert bbl column from float to int\n",
    "pluto['bbl'] = pluto['bbl'].apply(lambda x: int(x))"
   ]
  },
  {
   "cell_type": "markdown",
   "id": "2a63c17d-6239-4f06-bceb-1f35c661e313",
   "metadata": {},
   "source": [
    "### inspection data"
   ]
  },
  {
   "cell_type": "code",
   "execution_count": 9,
   "id": "2549ee33-618f-493b-9dbe-2b2bb71c7532",
   "metadata": {},
   "outputs": [
    {
     "data": {
      "text/html": [
       "<div>\n",
       "<style scoped>\n",
       "    .dataframe tbody tr th:only-of-type {\n",
       "        vertical-align: middle;\n",
       "    }\n",
       "\n",
       "    .dataframe tbody tr th {\n",
       "        vertical-align: top;\n",
       "    }\n",
       "\n",
       "    .dataframe thead th {\n",
       "        text-align: right;\n",
       "    }\n",
       "</style>\n",
       "<table border=\"1\" class=\"dataframe\">\n",
       "  <thead>\n",
       "    <tr style=\"text-align: right;\">\n",
       "      <th></th>\n",
       "      <th>INSP_INSPECT_DT</th>\n",
       "      <th>BBL</th>\n",
       "      <th>BLDG_CURRENT_BIN_FK</th>\n",
       "    </tr>\n",
       "  </thead>\n",
       "  <tbody>\n",
       "    <tr>\n",
       "      <th>0</th>\n",
       "      <td>08/14/2018</td>\n",
       "      <td>4.000510e+09</td>\n",
       "      <td>4000431</td>\n",
       "    </tr>\n",
       "    <tr>\n",
       "      <th>1</th>\n",
       "      <td>01/29/2016</td>\n",
       "      <td>3.050480e+09</td>\n",
       "      <td>3115797</td>\n",
       "    </tr>\n",
       "    <tr>\n",
       "      <th>2</th>\n",
       "      <td>05/21/2014</td>\n",
       "      <td>5.024508e+09</td>\n",
       "      <td>5120386</td>\n",
       "    </tr>\n",
       "    <tr>\n",
       "      <th>3</th>\n",
       "      <td>05/17/2016</td>\n",
       "      <td>1.022480e+09</td>\n",
       "      <td>1065067</td>\n",
       "    </tr>\n",
       "    <tr>\n",
       "      <th>4</th>\n",
       "      <td>06/01/2018</td>\n",
       "      <td>3.009170e+09</td>\n",
       "      <td>3018012</td>\n",
       "    </tr>\n",
       "  </tbody>\n",
       "</table>\n",
       "</div>"
      ],
      "text/plain": [
       "  INSP_INSPECT_DT           BBL  BLDG_CURRENT_BIN_FK\n",
       "0      08/14/2018  4.000510e+09              4000431\n",
       "1      01/29/2016  3.050480e+09              3115797\n",
       "2      05/21/2014  5.024508e+09              5120386\n",
       "3      05/17/2016  1.022480e+09              1065067\n",
       "4      06/01/2018  3.009170e+09              3018012"
      ]
     },
     "execution_count": 9,
     "metadata": {},
     "output_type": "execute_result"
    }
   ],
   "source": [
    "inspection = inspection_raw[['INSP_INSPECT_DT', 'BBL', 'BLDG_CURRENT_BIN_FK']]\n",
    "inspection.head()"
   ]
  },
  {
   "cell_type": "markdown",
   "id": "96496920-c9f5-4607-ba57-34ba81ac3c4c",
   "metadata": {},
   "source": [
    "### zip area data"
   ]
  },
  {
   "cell_type": "code",
   "execution_count": 10,
   "id": "b280c656-06d9-4e9a-8730-9d6e81dd4606",
   "metadata": {},
   "outputs": [
    {
     "name": "stderr",
     "output_type": "stream",
     "text": [
      "C:\\Users\\kevin\\AppData\\Local\\Temp\\ipykernel_22176\\2234351423.py:3: SettingWithCopyWarning: \n",
      "A value is trying to be set on a copy of a slice from a DataFrame.\n",
      "Try using .loc[row_indexer,col_indexer] = value instead\n",
      "\n",
      "See the caveats in the documentation: https://pandas.pydata.org/pandas-docs/stable/user_guide/indexing.html#returning-a-view-versus-a-copy\n",
      "  zip_area['area_mile2'] = zip_area['population'] / zip_area['density'] * 0.386102\n"
     ]
    }
   ],
   "source": [
    "zip_area = zip_area_raw[['zip', 'population', 'density']]\n",
    "# Density in population per km^2 (1 km^2 = 0.386102 mile^2)\n",
    "zip_area['area_mile2'] = zip_area['population'] / zip_area['density'] * 0.386102\n",
    "zip_area = zip_area[['zip', 'area_mile2']]"
   ]
  },
  {
   "cell_type": "markdown",
   "id": "ce50bb27-ecb3-4aaa-afac-f9f798f4d510",
   "metadata": {},
   "source": [
    "# Merge data\n",
    "## Find zipcodes\n",
    "### buildings with zipcodes & pluto"
   ]
  },
  {
   "cell_type": "code",
   "execution_count": 11,
   "id": "40a7086a-d565-48d7-aaeb-99cefd469e7a",
   "metadata": {},
   "outputs": [
    {
     "name": "stdout",
     "output_type": "stream",
     "text": [
      "There are 77488 rows with empty zipcode\n"
     ]
    }
   ],
   "source": [
    "# Buildings with zipcodes\n",
    "num_empty = buildings.merge(zipcodes, left_on='BIN', right_on='bin', how='left').value_counts('zipcode').max()\n",
    "print(f'There are {num_empty} rows with empty zipcode')"
   ]
  },
  {
   "cell_type": "code",
   "execution_count": 12,
   "id": "5ed3c8d7-2e52-4778-ab29-faaabc898187",
   "metadata": {},
   "outputs": [
    {
     "data": {
      "text/html": [
       "<div>\n",
       "<style scoped>\n",
       "    .dataframe tbody tr th:only-of-type {\n",
       "        vertical-align: middle;\n",
       "    }\n",
       "\n",
       "    .dataframe tbody tr th {\n",
       "        vertical-align: top;\n",
       "    }\n",
       "\n",
       "    .dataframe thead th {\n",
       "        text-align: right;\n",
       "    }\n",
       "</style>\n",
       "<table border=\"1\" class=\"dataframe\">\n",
       "  <thead>\n",
       "    <tr style=\"text-align: right;\">\n",
       "      <th></th>\n",
       "      <th>OBJECTID</th>\n",
       "      <th>BIN</th>\n",
       "      <th>Construction Year</th>\n",
       "      <th>DOITT ID</th>\n",
       "      <th>Feature Code</th>\n",
       "      <th>Height Roof</th>\n",
       "      <th>Area</th>\n",
       "      <th>Length</th>\n",
       "      <th>borough</th>\n",
       "      <th>block</th>\n",
       "      <th>lot</th>\n",
       "      <th>bbl</th>\n",
       "      <th>zipcode</th>\n",
       "      <th>latitude</th>\n",
       "      <th>longitude</th>\n",
       "      <th>zip</th>\n",
       "      <th>area_mile2</th>\n",
       "    </tr>\n",
       "  </thead>\n",
       "  <tbody>\n",
       "    <tr>\n",
       "      <th>0</th>\n",
       "      <td>1</td>\n",
       "      <td>3170958</td>\n",
       "      <td>1925.0</td>\n",
       "      <td>96807</td>\n",
       "      <td>2100</td>\n",
       "      <td>29.749853</td>\n",
       "      <td>264.464844</td>\n",
       "      <td>74.281490</td>\n",
       "      <td>BK</td>\n",
       "      <td>6522.0</td>\n",
       "      <td>21.0</td>\n",
       "      <td>3.065220e+09</td>\n",
       "      <td>11230.0</td>\n",
       "      <td>40.626025</td>\n",
       "      <td>-73.966724</td>\n",
       "      <td>11230.0</td>\n",
       "      <td>1.842909</td>\n",
       "    </tr>\n",
       "    <tr>\n",
       "      <th>1</th>\n",
       "      <td>2</td>\n",
       "      <td>5028452</td>\n",
       "      <td>1965.0</td>\n",
       "      <td>326368</td>\n",
       "      <td>2100</td>\n",
       "      <td>22.630000</td>\n",
       "      <td>121.714844</td>\n",
       "      <td>44.163804</td>\n",
       "      <td>SI</td>\n",
       "      <td>1264.0</td>\n",
       "      <td>36.0</td>\n",
       "      <td>5.012640e+09</td>\n",
       "      <td>10303.0</td>\n",
       "      <td>40.639310</td>\n",
       "      <td>-74.167926</td>\n",
       "      <td>10303.0</td>\n",
       "      <td>3.169214</td>\n",
       "    </tr>\n",
       "    <tr>\n",
       "      <th>2</th>\n",
       "      <td>3</td>\n",
       "      <td>5078368</td>\n",
       "      <td>1970.0</td>\n",
       "      <td>746627</td>\n",
       "      <td>2100</td>\n",
       "      <td>35.760000</td>\n",
       "      <td>115.828125</td>\n",
       "      <td>43.920822</td>\n",
       "      <td>SI</td>\n",
       "      <td>6019.0</td>\n",
       "      <td>91.0</td>\n",
       "      <td>5.060190e+09</td>\n",
       "      <td>10312.0</td>\n",
       "      <td>40.556102</td>\n",
       "      <td>-74.195182</td>\n",
       "      <td>10312.0</td>\n",
       "      <td>6.871665</td>\n",
       "    </tr>\n",
       "    <tr>\n",
       "      <th>3</th>\n",
       "      <td>4</td>\n",
       "      <td>3245111</td>\n",
       "      <td>1928.0</td>\n",
       "      <td>786626</td>\n",
       "      <td>2100</td>\n",
       "      <td>37.500000</td>\n",
       "      <td>188.238281</td>\n",
       "      <td>73.872226</td>\n",
       "      <td>BK</td>\n",
       "      <td>8691.0</td>\n",
       "      <td>48.0</td>\n",
       "      <td>3.086910e+09</td>\n",
       "      <td>11235.0</td>\n",
       "      <td>40.577413</td>\n",
       "      <td>-73.961165</td>\n",
       "      <td>11235.0</td>\n",
       "      <td>2.457111</td>\n",
       "    </tr>\n",
       "    <tr>\n",
       "      <th>4</th>\n",
       "      <td>5</td>\n",
       "      <td>4161096</td>\n",
       "      <td>1950.0</td>\n",
       "      <td>746409</td>\n",
       "      <td>2100</td>\n",
       "      <td>18.015113</td>\n",
       "      <td>284.390625</td>\n",
       "      <td>72.749024</td>\n",
       "      <td>QN</td>\n",
       "      <td>7502.0</td>\n",
       "      <td>5.0</td>\n",
       "      <td>4.075020e+09</td>\n",
       "      <td>11364.0</td>\n",
       "      <td>40.755840</td>\n",
       "      <td>-73.754259</td>\n",
       "      <td>11364.0</td>\n",
       "      <td>2.508998</td>\n",
       "    </tr>\n",
       "  </tbody>\n",
       "</table>\n",
       "</div>"
      ],
      "text/plain": [
       "   OBJECTID      BIN  Construction Year  DOITT ID  Feature Code  Height Roof  \\\n",
       "0         1  3170958             1925.0     96807          2100    29.749853   \n",
       "1         2  5028452             1965.0    326368          2100    22.630000   \n",
       "2         3  5078368             1970.0    746627          2100    35.760000   \n",
       "3         4  3245111             1928.0    786626          2100    37.500000   \n",
       "4         5  4161096             1950.0    746409          2100    18.015113   \n",
       "\n",
       "         Area     Length borough   block   lot           bbl  zipcode  \\\n",
       "0  264.464844  74.281490      BK  6522.0  21.0  3.065220e+09  11230.0   \n",
       "1  121.714844  44.163804      SI  1264.0  36.0  5.012640e+09  10303.0   \n",
       "2  115.828125  43.920822      SI  6019.0  91.0  5.060190e+09  10312.0   \n",
       "3  188.238281  73.872226      BK  8691.0  48.0  3.086910e+09  11235.0   \n",
       "4  284.390625  72.749024      QN  7502.0   5.0  4.075020e+09  11364.0   \n",
       "\n",
       "    latitude  longitude      zip  area_mile2  \n",
       "0  40.626025 -73.966724  11230.0    1.842909  \n",
       "1  40.639310 -74.167926  10303.0    3.169214  \n",
       "2  40.556102 -74.195182  10312.0    6.871665  \n",
       "3  40.577413 -73.961165  11235.0    2.457111  \n",
       "4  40.755840 -73.754259  11364.0    2.508998  "
      ]
     },
     "execution_count": 12,
     "metadata": {},
     "output_type": "execute_result"
    }
   ],
   "source": [
    "# Buildings with pluto\n",
    "data = buildings.merge(pluto, left_on='Map Pluto BBL', right_on='bbl', how='left').drop('Map Pluto BBL', axis=1)\n",
    "\n",
    "# Merge with zip_area\n",
    "data = data.merge(zip_area, left_on = 'zipcode', right_on='zip', how='left')\n",
    "data.head()"
   ]
  },
  {
   "cell_type": "code",
   "execution_count": null,
   "id": "5178f1df-39bc-45ae-bdb1-50049688e40c",
   "metadata": {},
   "outputs": [],
   "source": [
    "# Create building age column\n",
    "data['age'] = data.apply(lambda x: 2025-x['Construction Year'], axis=1)"
   ]
  },
  {
   "cell_type": "code",
   "execution_count": null,
   "id": "e74b6098-de5e-4cde-be31-0043905e2a02",
   "metadata": {},
   "outputs": [],
   "source": [
    "data.sample(5)"
   ]
  },
  {
   "cell_type": "markdown",
   "id": "b01c1182-f333-4a49-b3c2-82d54234f867",
   "metadata": {},
   "source": [
    "## Find inspection risks"
   ]
  },
  {
   "cell_type": "code",
   "execution_count": null,
   "id": "6594b16c-c321-4322-816d-2001b4daee89",
   "metadata": {},
   "outputs": [],
   "source": [
    "insp_hist = data.merge(inspection, left_on=['bbl', 'BIN'], right_on=['BBL', 'BLDG_CURRENT_BIN_FK'], how='right')\\\n",
    "            .drop(['OBJECTID', 'BBL', 'BLDG_CURRENT_BIN_FK', 'Area', 'Length', 'block', 'lot', 'Construction Year'], axis=1)\\\n",
    "            .dropna()\n",
    "insp_hist['zipcode'] = insp_hist['zipcode'].apply(lambda x:int(x))\n",
    "insp_hist"
   ]
  },
  {
   "cell_type": "code",
   "execution_count": null,
   "id": "1f9580b8-0569-471b-a311-a1c116910ccc",
   "metadata": {},
   "outputs": [],
   "source": [
    "# Create inspection count using DOITT ID\n",
    "insp_count = pd.DataFrame(insp_hist['DOITT ID'].value_counts()).reset_index()"
   ]
  },
  {
   "cell_type": "code",
   "execution_count": null,
   "id": "c79cd24e-b8e3-48e2-8515-94bb493464c4",
   "metadata": {},
   "outputs": [],
   "source": [
    "# Merge data with insp_count\n",
    "df = data.merge(insp_count, on='DOITT ID', how='left').rename({'count':'insp_count'}, axis=1)\n",
    "df.insp_count = df.insp_count.fillna(0)"
   ]
  },
  {
   "cell_type": "code",
   "execution_count": null,
   "id": "84ecd698-5b82-4da8-9b06-21e3adc3e0b6",
   "metadata": {},
   "outputs": [],
   "source": [
    "df.insp_count.quantile(0.94), df.insp_count.quantile(0.98)"
   ]
  },
  {
   "cell_type": "markdown",
   "id": "472a52fb-1cea-4dd0-a074-ddb30e7c836b",
   "metadata": {},
   "source": [
    "# Classify Fire Risks"
   ]
  },
  {
   "cell_type": "markdown",
   "id": "11eb4b5f-14f7-46cf-a173-cedec4de68fa",
   "metadata": {},
   "source": [
    "- **High risks**: Less than 2% of the buildings had been **inspected more than 3 times** since 2014, and they will be classified as with high fire risk. Also, buildings **over 87 years old** will also be classified as with high fire risk (fire code was introduced to NYC in 1938).\n",
    "- **Medium risks**: Approximately 4% of the buildings had been **inspected 2 or 3 times** since 2014, and they will be classified as with medium fire risk. Also, buildings **between 37 and 87 years old** will also be classified as with medium fire risk (major building code overhaul occurred in 1968).\n",
    "- **Low risks**: Buildings with **1 or less inspections** and **less than 37 years old** will be classified as with the lowest fire risk (major building code overhaul occurred in 1968).\n",
    "\n",
    "source: https://digitalcommons.njit.edu/dissertations/77/"
   ]
  },
  {
   "cell_type": "code",
   "execution_count": null,
   "id": "2c9954a2-75c5-4cb6-b79c-00ab39dcc443",
   "metadata": {},
   "outputs": [],
   "source": [
    "def risk(insp_count, age):\n",
    "    if insp_count > 3 or age > 87:\n",
    "        return 'high'\n",
    "    elif 2 <= insp_count <= 3 or 37 <= age <= 87:\n",
    "        return 'medium'\n",
    "    elif insp_count <= 1 or age < 37:\n",
    "        return 'low'"
   ]
  },
  {
   "cell_type": "code",
   "execution_count": null,
   "id": "c45a0a7b-3af1-452a-a6fc-8da3fdae64aa",
   "metadata": {},
   "outputs": [],
   "source": [
    "df['risk'] = df.apply(lambda x: risk(x['insp_count'], x['age']), axis=1)\n",
    "df.risk.value_counts()"
   ]
  },
  {
   "cell_type": "code",
   "execution_count": null,
   "id": "02f67047-c231-4a90-89fa-624626a99dab",
   "metadata": {},
   "outputs": [],
   "source": [
    "df = df.groupby(['zipcode', 'risk'], as_index=False).count()[['zipcode', 'risk', 'lot']].rename({'lot':'count'}, axis=1)\n",
    "df = df.merge(zip_area, left_on = 'zipcode', right_on='zip', how='left').drop('zip', axis=1)\n",
    "df['zipcode'] = df['zipcode'].astype(int)"
   ]
  },
  {
   "cell_type": "code",
   "execution_count": null,
   "id": "7b77666a-03a2-4597-ac5c-2af90395c84f",
   "metadata": {},
   "outputs": [],
   "source": [
    "df.to_csv('building_fire_risk.csv', index=False)"
   ]
  },
  {
   "cell_type": "code",
   "execution_count": null,
   "id": "8b4b88f3-66f7-4bfd-a46d-4fb1e42b92ec",
   "metadata": {},
   "outputs": [],
   "source": []
  }
 ],
 "metadata": {
  "kernelspec": {
   "display_name": "Python 3 (ipykernel)",
   "language": "python",
   "name": "python3"
  },
  "language_info": {
   "codemirror_mode": {
    "name": "ipython",
    "version": 3
   },
   "file_extension": ".py",
   "mimetype": "text/x-python",
   "name": "python",
   "nbconvert_exporter": "python",
   "pygments_lexer": "ipython3",
   "version": "3.12.7"
  }
 },
 "nbformat": 4,
 "nbformat_minor": 5
}
